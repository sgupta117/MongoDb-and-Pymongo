{
 "cells": [
  {
   "cell_type": "code",
   "execution_count": 1,
   "metadata": {},
   "outputs": [],
   "source": [
    "import numpy as np\n",
    "import pandas as pd\n",
    "import matplotlib.pyplot as pl"
   ]
  },
  {
   "cell_type": "code",
   "execution_count": 2,
   "metadata": {},
   "outputs": [
    {
     "name": "stdout",
     "output_type": "stream",
     "text": [
      "[0 1 2 3 4 5 6 7 8 9]\n"
     ]
    }
   ],
   "source": [
    "print(np.arange(10))"
   ]
  },
  {
   "cell_type": "code",
   "execution_count": 3,
   "metadata": {},
   "outputs": [],
   "source": [
    "import pymongo\n",
    "import pprint"
   ]
  },
  {
   "cell_type": "code",
   "execution_count": 4,
   "metadata": {},
   "outputs": [],
   "source": [
    "client = pymongo.MongoClient('127.0.0.1',27017)\n",
    "#client = pymongo.MongoClient('mongodb://localhost:27017')"
   ]
  },
  {
   "cell_type": "code",
   "execution_count": 5,
   "metadata": {},
   "outputs": [
    {
     "name": "stdout",
     "output_type": "stream",
     "text": [
      "Record added with id : 5e633510e7862b1a39184fc0\n"
     ]
    }
   ],
   "source": [
    "mydb = client['employee']\n",
    "information = mydb.employeeInformation\n",
    "\n",
    "record={\n",
    "       'firstname' : 'Shubham',\n",
    "       'lastname' : 'Gupta',\n",
    "       'age' : 24,\n",
    "        'Place' : 'Delhi'\n",
    "       }\n",
    "\n",
    "ins = information.insert_one(record)\n",
    "if ins.acknowledged:\n",
    "    print('Record added with id :', ins.inserted_id)"
   ]
  },
  {
   "cell_type": "code",
   "execution_count": 6,
   "metadata": {},
   "outputs": [],
   "source": [
    "many_records = [{\n",
    "    'name' : 'Shubham',\n",
    "    'Age' : 25,\n",
    "    'Company' : 'Bank Of America',\n",
    "    'Place' : 'Gurgaon'\n",
    " },\n",
    "{\n",
    "    'name' : 'John',\n",
    "    'Age' : 27,\n",
    "    'Company' : 'Mphasis',\n",
    "    'Place' : 'Mumbai'\n",
    "},\n",
    "{   \n",
    "    'name' : 'Rahul',\n",
    "    'Age' : 35,\n",
    "    'Company' : 'KKHH',\n",
    "    'Place' : 'INDIA'\n",
    "}\n",
    ",\n",
    "{   \n",
    "    'name' : 'Karishma',\n",
    "    'Age' : 29,\n",
    "    'Company' : 'KKK',\n",
    "    'Place' : 'SPAIN'\n",
    "}\n",
    "]"
   ]
  },
  {
   "cell_type": "code",
   "execution_count": 7,
   "metadata": {},
   "outputs": [
    {
     "data": {
      "text/plain": [
       "<pymongo.results.InsertManyResult at 0x204fdc8c6c8>"
      ]
     },
     "execution_count": 7,
     "metadata": {},
     "output_type": "execute_result"
    }
   ],
   "source": [
    "information.insert_many(many_records)"
   ]
  },
  {
   "cell_type": "code",
   "execution_count": 8,
   "metadata": {},
   "outputs": [
    {
     "name": "stdout",
     "output_type": "stream",
     "text": [
      "{'_id': ObjectId('5e3fd36611e14aafa603618d'), 'name': 'John', 'Age': 25, 'Company': 'Mphasis', 'Place': 'Mumbai'}\n",
      "{'_id': ObjectId('5e3fd53311e14aafa603618e'), 'name': 'Shubham', 'Age': 25, 'Company': 'Bank Of America', 'Place': 'Gurgaon'}\n",
      "{'_id': ObjectId('5e3fd53311e14aafa603618f'), 'name': 'John', 'Age': 25, 'Company': 'Mphasis', 'Place': 'Mumbai'}\n",
      "{'_id': ObjectId('5e3fd57811e14aafa6036190'), 'firstname': 'Ravi', 'lastname': 'Gupta'}\n",
      "{'_id': ObjectId('5e49219272a4f1b15a1ae7a6'), 'firstname': 'Ravi', 'lastname': 'Gupta', 'age': 24, 'Place': 'Delhi'}\n",
      "{'_id': ObjectId('5e49219372a4f1b15a1ae7a7'), 'name': 'Shubham', 'Age': 25, 'Company': 'Bank Of America', 'Place': 'Gurgaon'}\n",
      "{'_id': ObjectId('5e49219372a4f1b15a1ae7a8'), 'name': 'John', 'Age': 27, 'Company': 'Mphasis', 'Place': 'Mumbai'}\n",
      "{'_id': ObjectId('5e49219372a4f1b15a1ae7a9'), 'name': 'Rahul', 'Age': 35, 'Company': 'KKHH', 'Place': 'INDIA'}\n",
      "{'_id': ObjectId('5e49219372a4f1b15a1ae7aa'), 'name': 'Karishma', 'Age': 29, 'Company': 'KKK', 'Place': 'SPAIN'}\n",
      "{'_id': ObjectId('5e633510e7862b1a39184fc0'), 'firstname': 'Shubham', 'lastname': 'Gupta', 'age': 24, 'Place': 'Delhi'}\n",
      "{'_id': ObjectId('5e63351be7862b1a39184fc1'), 'name': 'Shubham', 'Age': 25, 'Company': 'Bank Of America', 'Place': 'Gurgaon'}\n",
      "{'_id': ObjectId('5e63351be7862b1a39184fc2'), 'name': 'John', 'Age': 27, 'Company': 'Mphasis', 'Place': 'Mumbai'}\n",
      "{'_id': ObjectId('5e63351be7862b1a39184fc3'), 'name': 'Rahul', 'Age': 35, 'Company': 'KKHH', 'Place': 'INDIA'}\n",
      "{'_id': ObjectId('5e63351be7862b1a39184fc4'), 'name': 'Karishma', 'Age': 29, 'Company': 'KKK', 'Place': 'SPAIN'}\n"
     ]
    }
   ],
   "source": [
    "res = information.find()\n",
    "\n",
    "for out in res:\n",
    "    print(out) # Use pprint.pprint for seeing results in a pretty format"
   ]
  },
  {
   "cell_type": "code",
   "execution_count": 9,
   "metadata": {},
   "outputs": [
    {
     "name": "stdout",
     "output_type": "stream",
     "text": [
      "{'_id': ObjectId('5e633510e7862b1a39184fc0'), 'firstname': 'Shubham', 'lastname': 'Gupta', 'age': 24, 'Place': 'Delhi'}\n"
     ]
    }
   ],
   "source": [
    "res = information.find_one({'firstname': 'Shubham'})\n",
    "#res = information.find_one()\n",
    "print(res)"
   ]
  },
  {
   "cell_type": "code",
   "execution_count": 10,
   "metadata": {},
   "outputs": [],
   "source": [
    "#Delete (delete_one , delete_many)\n",
    "#r = information.delete_one({'name' : 'Shubham' , 'Age' : 25})\n",
    "r = information.delete_one({'firstname' : 'Shubham'})"
   ]
  },
  {
   "cell_type": "code",
   "execution_count": 11,
   "metadata": {},
   "outputs": [
    {
     "name": "stderr",
     "output_type": "stream",
     "text": [
      "C:\\Users\\user\\Anaconda3\\lib\\site-packages\\ipykernel_launcher.py:4: DeprecationWarning: update is deprecated. Use replace_one, update_one or update_many instead.\n",
      "  after removing the cwd from sys.path.\n"
     ]
    }
   ],
   "source": [
    "#Update\n",
    "\n",
    "output = information.update(\n",
    "{'firstname' : 'Shubham'},{\"$set\":{'firstname' : 'Ravi'}}\n",
    ")"
   ]
  },
  {
   "cell_type": "code",
   "execution_count": null,
   "metadata": {},
   "outputs": [],
   "source": []
  },
  {
   "cell_type": "code",
   "execution_count": 12,
   "metadata": {},
   "outputs": [
    {
     "name": "stdout",
     "output_type": "stream",
     "text": [
      "13\n"
     ]
    }
   ],
   "source": [
    "#COunt number of documemnts\n",
    "count = information.count_documents({})\n",
    "print(count)"
   ]
  },
  {
   "cell_type": "code",
   "execution_count": 13,
   "metadata": {},
   "outputs": [],
   "source": [
    "#TO drop any collection from database\n",
    "#information.drop()"
   ]
  },
  {
   "cell_type": "code",
   "execution_count": 13,
   "metadata": {},
   "outputs": [
    {
     "name": "stdout",
     "output_type": "stream",
     "text": [
      "{'_id': ObjectId('5e3fd36611e14aafa603618d'), 'name': 'John', 'Age': 25, 'Company': 'Mphasis', 'Place': 'Mumbai'}\n",
      "{'_id': ObjectId('5e3fd53311e14aafa603618e'), 'name': 'Shubham', 'Age': 25, 'Company': 'Bank Of America', 'Place': 'Gurgaon'}\n",
      "{'_id': ObjectId('5e3fd53311e14aafa603618f'), 'name': 'John', 'Age': 25, 'Company': 'Mphasis', 'Place': 'Mumbai'}\n",
      "{'_id': ObjectId('5e3fd57811e14aafa6036190'), 'firstname': 'Ravi', 'lastname': 'Gupta'}\n",
      "{'_id': ObjectId('5e49219272a4f1b15a1ae7a6'), 'firstname': 'Ravi', 'lastname': 'Gupta', 'age': 24, 'Place': 'Delhi'}\n",
      "{'_id': ObjectId('5e49219372a4f1b15a1ae7a7'), 'name': 'Shubham', 'Age': 25, 'Company': 'Bank Of America', 'Place': 'Gurgaon'}\n",
      "{'_id': ObjectId('5e49219372a4f1b15a1ae7a8'), 'name': 'John', 'Age': 27, 'Company': 'Mphasis', 'Place': 'Mumbai'}\n",
      "{'_id': ObjectId('5e49219372a4f1b15a1ae7a9'), 'name': 'Rahul', 'Age': 35, 'Company': 'KKHH', 'Place': 'INDIA'}\n",
      "{'_id': ObjectId('5e49219372a4f1b15a1ae7aa'), 'name': 'Karishma', 'Age': 29, 'Company': 'KKK', 'Place': 'SPAIN'}\n",
      "{'_id': ObjectId('5e63351be7862b1a39184fc1'), 'name': 'Shubham', 'Age': 25, 'Company': 'Bank Of America', 'Place': 'Gurgaon'}\n",
      "{'_id': ObjectId('5e63351be7862b1a39184fc2'), 'name': 'John', 'Age': 27, 'Company': 'Mphasis', 'Place': 'Mumbai'}\n",
      "{'_id': ObjectId('5e63351be7862b1a39184fc3'), 'name': 'Rahul', 'Age': 35, 'Company': 'KKHH', 'Place': 'INDIA'}\n",
      "{'_id': ObjectId('5e63351be7862b1a39184fc4'), 'name': 'Karishma', 'Age': 29, 'Company': 'KKK', 'Place': 'SPAIN'}\n"
     ]
    }
   ],
   "source": [
    "for k in information.find({}):\n",
    "    print(k)"
   ]
  },
  {
   "cell_type": "code",
   "execution_count": 14,
   "metadata": {},
   "outputs": [
    {
     "name": "stdout",
     "output_type": "stream",
     "text": [
      "{'_id': ObjectId('5e49219372a4f1b15a1ae7a9'), 'name': 'Rahul', 'Age': 35, 'Company': 'KKHH', 'Place': 'INDIA'}\n",
      "{'_id': ObjectId('5e49219372a4f1b15a1ae7aa'), 'name': 'Karishma', 'Age': 29, 'Company': 'KKK', 'Place': 'SPAIN'}\n",
      "{'_id': ObjectId('5e63351be7862b1a39184fc3'), 'name': 'Rahul', 'Age': 35, 'Company': 'KKHH', 'Place': 'INDIA'}\n",
      "{'_id': ObjectId('5e63351be7862b1a39184fc4'), 'name': 'Karishma', 'Age': 29, 'Company': 'KKK', 'Place': 'SPAIN'}\n"
     ]
    }
   ],
   "source": [
    "for j in information.find({'Age':{'$gt':27}}):\n",
    "    print(j)"
   ]
  },
  {
   "cell_type": "code",
   "execution_count": 15,
   "metadata": {},
   "outputs": [
    {
     "name": "stdout",
     "output_type": "stream",
     "text": [
      "{'_id': ObjectId('5e3fd36611e14aafa603618d'), 'name': 'John', 'Age': 25, 'Company': 'Mphasis', 'Place': 'Mumbai'}\n",
      "{'_id': ObjectId('5e3fd53311e14aafa603618e'), 'name': 'Shubham', 'Age': 25, 'Company': 'Bank Of America', 'Place': 'Gurgaon'}\n",
      "{'_id': ObjectId('5e3fd53311e14aafa603618f'), 'name': 'John', 'Age': 25, 'Company': 'Mphasis', 'Place': 'Mumbai'}\n",
      "{'_id': ObjectId('5e49219372a4f1b15a1ae7a7'), 'name': 'Shubham', 'Age': 25, 'Company': 'Bank Of America', 'Place': 'Gurgaon'}\n",
      "{'_id': ObjectId('5e63351be7862b1a39184fc1'), 'name': 'Shubham', 'Age': 25, 'Company': 'Bank Of America', 'Place': 'Gurgaon'}\n"
     ]
    }
   ],
   "source": [
    "for j in information.find({'Age':{'$lt':27}}):\n",
    "    print(j)"
   ]
  },
  {
   "cell_type": "code",
   "execution_count": 16,
   "metadata": {},
   "outputs": [
    {
     "name": "stdout",
     "output_type": "stream",
     "text": [
      "{'_id': ObjectId('5e3fd36611e14aafa603618d'), 'name': 'John', 'Age': 25, 'Company': 'Mphasis', 'Place': 'Mumbai'}\n",
      "{'_id': ObjectId('5e3fd53311e14aafa603618e'), 'name': 'Shubham', 'Age': 25, 'Company': 'Bank Of America', 'Place': 'Gurgaon'}\n",
      "{'_id': ObjectId('5e3fd53311e14aafa603618f'), 'name': 'John', 'Age': 25, 'Company': 'Mphasis', 'Place': 'Mumbai'}\n",
      "{'_id': ObjectId('5e3fd57811e14aafa6036190'), 'firstname': 'Ravi', 'lastname': 'Gupta'}\n",
      "{'_id': ObjectId('5e49219272a4f1b15a1ae7a6'), 'firstname': 'Ravi', 'lastname': 'Gupta', 'age': 24, 'Place': 'Delhi'}\n",
      "{'_id': ObjectId('5e49219372a4f1b15a1ae7a7'), 'name': 'Shubham', 'Age': 25, 'Company': 'Bank Of America', 'Place': 'Gurgaon'}\n",
      "{'_id': ObjectId('5e49219372a4f1b15a1ae7a9'), 'name': 'Rahul', 'Age': 35, 'Company': 'KKHH', 'Place': 'INDIA'}\n",
      "{'_id': ObjectId('5e49219372a4f1b15a1ae7aa'), 'name': 'Karishma', 'Age': 29, 'Company': 'KKK', 'Place': 'SPAIN'}\n",
      "{'_id': ObjectId('5e63351be7862b1a39184fc1'), 'name': 'Shubham', 'Age': 25, 'Company': 'Bank Of America', 'Place': 'Gurgaon'}\n",
      "{'_id': ObjectId('5e63351be7862b1a39184fc3'), 'name': 'Rahul', 'Age': 35, 'Company': 'KKHH', 'Place': 'INDIA'}\n",
      "{'_id': ObjectId('5e63351be7862b1a39184fc4'), 'name': 'Karishma', 'Age': 29, 'Company': 'KKK', 'Place': 'SPAIN'}\n"
     ]
    }
   ],
   "source": [
    "for j in information.find({'Age':{'$ne':27}}):\n",
    "    print(j)"
   ]
  },
  {
   "cell_type": "code",
   "execution_count": 18,
   "metadata": {},
   "outputs": [
    {
     "name": "stdout",
     "output_type": "stream",
     "text": [
      "{'_id': ObjectId('5e3fd53311e14aafa603618e'), 'name': 'Shubham', 'Age': 25, 'Company': 'Bank Of America', 'Place': 'Gurgaon'}\n",
      "{'_id': ObjectId('5e49219372a4f1b15a1ae7a7'), 'name': 'Shubham', 'Age': 25, 'Company': 'Bank Of America', 'Place': 'Gurgaon'}\n",
      "{'_id': ObjectId('5e63351be7862b1a39184fc1'), 'name': 'Shubham', 'Age': 25, 'Company': 'Bank Of America', 'Place': 'Gurgaon'}\n",
      "{'_id': ObjectId('5e49219372a4f1b15a1ae7a9'), 'name': 'Rahul', 'Age': 35, 'Company': 'KKHH', 'Place': 'INDIA'}\n",
      "{'_id': ObjectId('5e63351be7862b1a39184fc3'), 'name': 'Rahul', 'Age': 35, 'Company': 'KKHH', 'Place': 'INDIA'}\n",
      "{'_id': ObjectId('5e49219372a4f1b15a1ae7aa'), 'name': 'Karishma', 'Age': 29, 'Company': 'KKK', 'Place': 'SPAIN'}\n",
      "{'_id': ObjectId('5e63351be7862b1a39184fc4'), 'name': 'Karishma', 'Age': 29, 'Company': 'KKK', 'Place': 'SPAIN'}\n",
      "{'_id': ObjectId('5e3fd36611e14aafa603618d'), 'name': 'John', 'Age': 25, 'Company': 'Mphasis', 'Place': 'Mumbai'}\n",
      "{'_id': ObjectId('5e3fd53311e14aafa603618f'), 'name': 'John', 'Age': 25, 'Company': 'Mphasis', 'Place': 'Mumbai'}\n",
      "{'_id': ObjectId('5e49219372a4f1b15a1ae7a8'), 'name': 'John', 'Age': 27, 'Company': 'Mphasis', 'Place': 'Mumbai'}\n",
      "{'_id': ObjectId('5e63351be7862b1a39184fc2'), 'name': 'John', 'Age': 27, 'Company': 'Mphasis', 'Place': 'Mumbai'}\n",
      "{'_id': ObjectId('5e3fd57811e14aafa6036190'), 'firstname': 'Ravi', 'lastname': 'Gupta'}\n",
      "{'_id': ObjectId('5e49219272a4f1b15a1ae7a6'), 'firstname': 'Ravi', 'lastname': 'Gupta', 'age': 24, 'Place': 'Delhi'}\n"
     ]
    }
   ],
   "source": [
    "mydoc = information.find().sort(\"name\", -1) #-1 is for descending order , 1 for ascending\n",
    "\n",
    "for x in mydoc:\n",
    "  print(x)"
   ]
  },
  {
   "cell_type": "code",
   "execution_count": 19,
   "metadata": {},
   "outputs": [],
   "source": [
    "#regex command with many_delete\n",
    "myquery = { \"Company\": {\"$regex\": \"^M\"} }\n",
    "\n",
    "#x = information.delete_many(myquery)\n",
    "\n",
    "#print(x.deleted_count, \" documents deleted.\")"
   ]
  },
  {
   "cell_type": "code",
   "execution_count": 23,
   "metadata": {},
   "outputs": [
    {
     "name": "stdout",
     "output_type": "stream",
     "text": [
      "{'_id': ObjectId('5e3fd57811e14aafa6036190'), 'firstname': 'Ravi', 'lastname': 'Gupta'}\n"
     ]
    }
   ],
   "source": [
    "#Limit command\n",
    "myresult = information.find({\"firstname\" : \"Ravi\"}).limit(1)\n",
    "\n",
    "#print the result:\n",
    "for x in myresult:\n",
    "  print(x)"
   ]
  },
  {
   "cell_type": "code",
   "execution_count": 24,
   "metadata": {},
   "outputs": [
    {
     "name": "stdout",
     "output_type": "stream",
     "text": [
      "{'_id': ObjectId('5e49219272a4f1b15a1ae7a6'), 'firstname': 'Ravi', 'lastname': 'Gupta', 'age': 24, 'Place': 'Delhi'}\n"
     ]
    }
   ],
   "source": [
    "# Skip command\n",
    "\n",
    "myresult = information.find({\"firstname\" : \"Ravi\"}).limit(1).skip(1)\n",
    "\n",
    "#print the result:\n",
    "for x in myresult:\n",
    "  print(x)"
   ]
  },
  {
   "cell_type": "code",
   "execution_count": 43,
   "metadata": {},
   "outputs": [
    {
     "name": "stdout",
     "output_type": "stream",
     "text": [
      "{}\n",
      "{}\n",
      "{'name': 'John'}\n",
      "{'name': 'John'}\n",
      "{'name': 'John'}\n",
      "{'name': 'John'}\n",
      "{'name': 'Karishma'}\n",
      "{'name': 'Karishma'}\n",
      "{'name': 'Rahul'}\n",
      "{'name': 'Rahul'}\n",
      "{'name': 'Shubham'}\n",
      "{'name': 'Shubham'}\n",
      "{'name': 'Shubham'}\n"
     ]
    }
   ],
   "source": [
    "# Sort command (sort should be a list of key-direction pairs)\n",
    "\n",
    "for j in (information.find({}, {\"name\": 1,\"_id\":0}).sort([(\"name\",1),(\"age\",-1)])):\n",
    "    print(j)"
   ]
  },
  {
   "cell_type": "code",
   "execution_count": 54,
   "metadata": {},
   "outputs": [
    {
     "data": {
      "text/plain": [
       "'Company_1'"
      ]
     },
     "execution_count": 54,
     "metadata": {},
     "output_type": "execute_result"
    }
   ],
   "source": [
    "information.create_index([(\"name\", 1 or -1)])\n",
    "\n",
    "information.create_index([(\"Company\",1)])"
   ]
  },
  {
   "cell_type": "code",
   "execution_count": 55,
   "metadata": {},
   "outputs": [
    {
     "name": "stdout",
     "output_type": "stream",
     "text": [
      "SON([('v', 2), ('key', SON([('_id', 1)])), ('name', '_id_'), ('ns', 'employee.employeeInformation')])\n",
      "SON([('v', 2), ('key', SON([('name', 1)])), ('name', 'name_1'), ('ns', 'employee.employeeInformation')])\n",
      "SON([('v', 2), ('key', SON([('Company', 1)])), ('name', 'Company_1'), ('ns', 'employee.employeeInformation')])\n"
     ]
    }
   ],
   "source": [
    "for i in information.list_indexes():\n",
    "    print(i)"
   ]
  },
  {
   "cell_type": "code",
   "execution_count": null,
   "metadata": {},
   "outputs": [],
   "source": []
  }
 ],
 "metadata": {
  "kernelspec": {
   "display_name": "Python 3",
   "language": "python",
   "name": "python3"
  },
  "language_info": {
   "codemirror_mode": {
    "name": "ipython",
    "version": 3
   },
   "file_extension": ".py",
   "mimetype": "text/x-python",
   "name": "python",
   "nbconvert_exporter": "python",
   "pygments_lexer": "ipython3",
   "version": "3.7.4"
  }
 },
 "nbformat": 4,
 "nbformat_minor": 2
}
